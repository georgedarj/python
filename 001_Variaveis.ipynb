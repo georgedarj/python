{
  "nbformat": 4,
  "nbformat_minor": 0,
  "metadata": {
    "colab": {
      "name": "001_Variaveis.ipynb",
      "provenance": [],
      "collapsed_sections": [],
      "toc_visible": true,
      "authorship_tag": "ABX9TyPxdi/YvwGJtr1LDUQeShEF",
      "include_colab_link": true
    },
    "kernelspec": {
      "name": "python3",
      "display_name": "Python 3"
    },
    "language_info": {
      "name": "python"
    }
  },
  "cells": [
    {
      "cell_type": "markdown",
      "metadata": {
        "id": "view-in-github",
        "colab_type": "text"
      },
      "source": [
        "<a href=\"https://colab.research.google.com/github/georgedarj/python/blob/main/001_Variaveis.ipynb\" target=\"_parent\"><img src=\"https://colab.research.google.com/assets/colab-badge.svg\" alt=\"Open In Colab\"/></a>"
      ]
    },
    {
      "cell_type": "code",
      "source": [
        "print(\"Hello, World!\")"
      ],
      "metadata": {
        "colab": {
          "base_uri": "https://localhost:8080/"
        },
        "id": "AVidbi_bHF3y",
        "outputId": "c686880e-b535-4509-c73b-9b3424e5a7ef"
      },
      "execution_count": null,
      "outputs": [
        {
          "output_type": "stream",
          "name": "stdout",
          "text": [
            "Hello, World!\n"
          ]
        }
      ]
    },
    {
      "cell_type": "markdown",
      "source": [
        "## VÁRIAVEIS\n",
        "***\n",
        "\n",
        "* São espaços reservados na memória do PC para que possamos armazenar, temporariamente, um determinado dado; o identificador é o nome que atribuímos a uma variável; veja as seguintes *REGRAS* para criação de variáveis:\n",
        "\t- O nome da variável não pode iniciar com um número;\n",
        "\t- O identificador não pode fazer uso de palavras reservadas da linguagem, p. ex., if, else, while, for;\n",
        "\t- Cuidado ao usar caracteres especiais (@#!%&*), pois também fazem parte da linguagem de programação; o único que pode ser usado sem problemas é o _ (underline);\n",
        "\n",
        "* Entenda bons *PADRÕES* para a criação de variáveis:\n",
        "\t- O identificador deve começar com letra minúscula;\n",
        "\t- Maiúsculas podem ser usadas quando o uso for feito em variáveis com mais de uma palavra, para identificar o inicio de uma nova palavra, ex: dataDeNascimento;\n",
        "\t- Utilize nomes significativos;\n",
        "\t- Acrônimos também devem usar letra minúscula, ex: cep cpf, rg, cnpj;\n"
      ],
      "metadata": {
        "id": "vLjiEdsv0hgh"
      }
    },
    {
      "cell_type": "markdown",
      "source": [
        "Para que o Python não tente realizar uma operação matemática, devemos utilizar a função **str( )** para converter o conteúdo da variável float para string.\n",
        "***\n",
        "\n",
        "\n"
      ],
      "metadata": {
        "id": "rhkfnApkup7u"
      }
    },
    {
      "cell_type": "code",
      "source": [
        "nome= \"George D Araujo\"\n",
        "empresa= \"Subseven\"\n",
        "qtd_funcionarios= 7\n",
        "mediaMensalidade= 1500.80\n",
        "\n",
        "print(nome + \" trabalha na empresa \" + empresa)\n",
        "print(\"Possui: \", qtd_funcionarios, \" funcionarios.\")\n",
        "print(\"A média da mensalidade é de: \" + str(mediaMensalidade))"
      ],
      "metadata": {
        "id": "bYtfTevkxwYy"
      },
      "execution_count": null,
      "outputs": []
    },
    {
      "cell_type": "markdown",
      "source": [
        "A função **input( )** permite ao usuário digitar conteúdo em tempo de execução\n",
        "***"
      ],
      "metadata": {
        "id": "pb9QKnfWvuME"
      }
    },
    {
      "cell_type": "code",
      "source": [
        "nome= input(\"Digite o nome do funcionário: \")\n",
        "empresa= input(\"Digite a instituição: \")\n",
        "qtd_funcionarios= int(input(\"Digite o número de funcionários: \"))\n",
        "mediaMensalidade= float(input(\"Digite a media salarial: \"))\n",
        "\n",
        "print(nome + \" trabalha na empresa \" + empresa)"
      ],
      "metadata": {
        "id": "f66-rVUc1Xlo"
      },
      "execution_count": null,
      "outputs": []
    },
    {
      "cell_type": "markdown",
      "source": [
        "A função **type( )** retorna o tipo do dado que estiver dento dos seus parenteses\n",
        "***"
      ],
      "metadata": {
        "id": "zwGSB63gv4fT"
      }
    },
    {
      "cell_type": "code",
      "source": [
        "nome= input(\"Digite o nome do funcionário: \")\n",
        "empresa= input(\"Digite o nome da empresa: \")\n",
        "qtd_funcionarios= int(input(\"Digite a quantidade de funcionários: \"))\n",
        "mediaMensalidade= float(input(\"Digite o valor do salário: \"))\n",
        "\n",
        "print(nome + \" trabalha na empresa \" + empresa)\n",
        "print(\"Possui: \", qtd_funcionarios, \" funcionários\")\n",
        "print(\"A média salarial é de: \" + str(mediaMensalidade))\n",
        "\n",
        "print(\"=========Verifique os tipos de dados abaixo=======\")\n",
        "print(\"O tipo de dado da variável [nome] é: \", type(nome))\n",
        "print(\"O tipo de dado da variável [empresa]] é: \", type(empresa))\n",
        "print(\"O tipo de dado da variável [qtd_funcionarios] é: \", type(qtd_funcionarios))\n",
        "print(\"O tipo de dado da variável [mediaMensalidade] é: \", type(mediaMensalidade))"
      ],
      "metadata": {
        "id": "3HOlXPYpsaHr"
      },
      "execution_count": null,
      "outputs": []
    }
  ]
}