{
  "nbformat": 4,
  "nbformat_minor": 0,
  "metadata": {
    "colab": {
      "name": "003_LacosDeRepeticao.ipynb",
      "provenance": [],
      "collapsed_sections": [],
      "authorship_tag": "ABX9TyPxUhUQgEVYupuahrP9z23i",
      "include_colab_link": true
    },
    "kernelspec": {
      "name": "python3",
      "display_name": "Python 3"
    },
    "language_info": {
      "name": "python"
    }
  },
  "cells": [
    {
      "cell_type": "markdown",
      "metadata": {
        "id": "view-in-github",
        "colab_type": "text"
      },
      "source": [
        "<a href=\"https://colab.research.google.com/github/georgedarj/python/blob/main/003_LacosDeRepeticao.ipynb\" target=\"_parent\"><img src=\"https://colab.research.google.com/assets/colab-badge.svg\" alt=\"Open In Colab\"/></a>"
      ]
    },
    {
      "cell_type": "markdown",
      "source": [
        ""
      ],
      "metadata": {
        "id": "CUCyg_EYOjlp"
      }
    },
    {
      "cell_type": "markdown",
      "source": [
        "#LAÇOS DE REPETIÇÃO\n",
        "***\n",
        "Os laços de repetição servem para que uma *determinada ação seja repetida uma certa quantidade de vezes*. É um recurso que permite a redução drástica da quantidade de código.\n",
        "\n",
        "<font color=#FF00FF>While</font>: estrutura que se parece com o if, porém, executa o código enquanto uma condição for verdadeira. O ciclo do código é mais ou menos assim:\n",
        "\n",
        "\n",
        "\t-teste da condição – se verdadeira > executa o bloco de código > volta para a condição – se falsa > para o bloco\n",
        "\n",
        "\n",
        "<font color=\"red\">Por isso, cuidado!</font> Se criar um bloco em que a condição permaneça eternamente verdadeira, criará o chamado **“loop infinito”**, ou seja, o programa executará o bloco de código até que ele precise ser encerrado a força e abruptamente.\n",
        "\n",
        "A sintaxe do WHILE é:\n",
        "\n",
        "    while <condicao>:\n",
        "        repita o que está aqui\n",
        "        alterar valor da condição \n"
      ],
      "metadata": {
        "id": "bosVGsKYOlmZ"
      }
    },
    {
      "cell_type": "code",
      "source": [
        "numero= int(input(\"Digite um número: \"))\n",
        "while numero>0:\n",
        "    print(\" \" + str(numero))\n",
        "    numero=numero-1\n",
        "print(\"Laço encerrado)\")"
      ],
      "metadata": {
        "id": "5-Tu-AjZPf8G"
      },
      "execution_count": null,
      "outputs": []
    },
    {
      "cell_type": "markdown",
      "source": [
        "Veja, na linha 4:\n",
        "\n",
        "\tnumero=numero-1 \n",
        "\n",
        "Este é o pedaço de código que impede que nosso while seja infinito, pois ele decrementa o valor de numero até que a variável alcance a condição que encerra o loop.\n"
      ],
      "metadata": {
        "id": "k8c5ZLruOQIm"
      }
    },
    {
      "cell_type": "code",
      "source": [
        "resposta=\"SIM\"\n",
        "while resposta==\"SIM\":\n",
        "    nivel= input(\"Digite o nível de acesso: \").upper()\n",
        "    if nivel==\"ADM\" or nivel==\"USR\":\n",
        "        genero= input(\"Digite o seu gênero: \").upper()\n",
        "        if nivel==\"ADM\":\n",
        "            if genero==\"FEMININO\":\n",
        "                print(\"Olá, Adminitradora!\")\n",
        "            else:\n",
        "                print(\"Olá, administrador!\")\n",
        "        else:\n",
        "            if genero==\"FEMININO\":\n",
        "                print(\"Olá, usuária!\")\n",
        "            else:\n",
        "                print(\"Olá, usuário!\")\n",
        "    elif nivel==\"GUEST\":\n",
        "        print(\"Olá, visitante!\")\n",
        "    else:\n",
        "        print(\"Olá, desconhecido!\")\n",
        "    resposta= input(\"Digite SIM para continuar: \").upper()"
      ],
      "metadata": {
        "id": "ausWt5OMTMUn"
      },
      "execution_count": null,
      "outputs": []
    },
    {
      "cell_type": "markdown",
      "source": [
        "O programa acima verifica o nível de acesso de um usuário, entre ADM, USR e GUEST e, em seguida analisa seu gênero para chegar a saudação mais correta. Ao fim, se o usuário responder SIM, o laço de saudação executa outra vez.\n",
        "\n",
        "Agora, faça o seguinte exercício com o código de Decisões Encadeadas: enquanto o usuário digitar algo **diferente** de “SIM” ou  de “NAO” para a questão de suspeita de doença contagiosa, o programa continua perguntando sobre essa suspeita. O operado “diferente” em Python é escrito com <font color=\"red\"> != </font>\n"
      ],
      "metadata": {
        "id": "KmkdlqFXBNRY"
      }
    },
    {
      "cell_type": "code",
      "source": [
        "nome= input(\"Digite o nome: \")\n",
        "idade= int(input(\"Digite a idade: \"))\n",
        "\n",
        "doenca_contagiosa= input(\"Suspeita de doença contagiosa? \").upper()\n",
        "##Resolução do exercício\n",
        "while doenca_contagiosa != \"SIM\" and doenca_contagiosa != \"NAO\":\n",
        "    print(\"Digite SIM ou NAO\")\n",
        "    doenca_contagiosa= input(\"Suspeita de doença contagiosa? \").upper()\n",
        "##fim do trecho da resolução\n",
        "if idade >=65:\n",
        "    print(\"Paciente COM prioridade\")\n",
        "    if doenca_contagiosa==\"SIM\":\n",
        "        print(\"Encaminhe o paciente para sala AMARELA\")\n",
        "    elif doenca_contagiosa== \"NAO\":\n",
        "        print(\"Encaminhe o paciente para a sala BRANCA\")\n",
        "    else:\n",
        "        print(\"Responda a suspeita de doença contagiosa com SIM ou NAO\")\n",
        "else:\n",
        "    print(\"Paciente SEM prioridade\")\n",
        "    if doenca_contagiosa==\"SIM\":\n",
        "        print(\"Encaminhe o paciente para a sala AMARELA\")\n",
        "    elif doenca_contagiosa==\"NAO\":\n",
        "        print('Encaminhe o paciente para sala BRANCA')\n",
        "    else:\n",
        "        print(\"Responda a suspeita de doença contagiosa com ISM ou NAO\")"
      ],
      "metadata": {
        "id": "gALdcQXK028Q"
      },
      "execution_count": null,
      "outputs": []
    },
    {
      "cell_type": "markdown",
      "source": [
        "<font color=#FF00FF>For </font>: o “for” também é uma estrutura de repetição, mas diferente do while, o término do seu laço é feito de duas formas básicas — por um número que delimita seu final ou por uma lista de dados que foi verificada por completo.\n",
        "\n",
        "Ou seja, enquanto o while depende mais de interação do usuário, o for é mais automatizado. A sintaxe do for é a seguinte:\n",
        "\n",
        "\tfor variavel in lista\n",
        "\tcomandos\n"
      ],
      "metadata": {
        "id": "Z5k037tJBz-I"
      }
    },
    {
      "cell_type": "code",
      "source": [
        "for numero in range(1, int(input(\"Digite um numero para determinar o fim: \")), 1):\n",
        "    print(\"  \" + str(numero))"
      ],
      "metadata": {
        "id": "jArz-8hqDeDU"
      },
      "execution_count": null,
      "outputs": []
    },
    {
      "cell_type": "markdown",
      "source": [
        "Criamos uma variável chamada <font color=\"green\">numero</font> e declaramos, de acordo com a função “range( )” — essa função permite especificar uma faixa de valores e como será incrementada — o valor de inicio como 1, e um valor de fim que será digitado pelo usuário. Também declaramos que essa faixa será incrementada de 1 em 1. Para facilitar a explicação:\n",
        "\n",
        "\tfor numero in range(valor de inicio(“usuário digita valor de fim”)), valor do incremento):\n",
        "\texecutar isso aqui\n"
      ],
      "metadata": {
        "id": "f8cp0l3wGY_9"
      }
    },
    {
      "cell_type": "markdown",
      "source": [
        "O estrutura for é melhor aplicada quando já se tem dados existentes e precisamos lê-los ou exibi-los. Mas para situações de preenchimento e captura de dados, a melhor opção é o while.\n",
        "\n",
        " Para exercitar, crie uma estrutura for para exibi a tabuada de um número digitado pelo usuário.\n"
      ],
      "metadata": {
        "id": "kWR1_1keRRW3"
      }
    },
    {
      "cell_type": "code",
      "source": [
        "continuar=\"SIM\"\n",
        "\n",
        "while continuar == \"SIM\":\n",
        "    tabuada = int(input(\"A tabuada de qual número você deseja exibir?\"))\n",
        "    print(\"TABUADA DO NUMERO \", tabuada)\n",
        "    for numero in range(1, 11, 1):\n",
        "        resultado= tabuada*numero\n",
        "        print(tabuada, \" x \", numero, \" = \", resultado)\n",
        "    continuar= input(\"Deseja fazer outra tabuada? \").upper()"
      ],
      "metadata": {
        "id": "rWUygnqBRXqW"
      },
      "execution_count": null,
      "outputs": []
    },
    {
      "cell_type": "markdown",
      "source": [
        "No código acima, criei a variavel <font color=\"yellow\">tabuada</font>, que captura o valor da tabuada que o usuario deseja saber. No for, estabeleci o inicio em 1 e o fim em 11 — para que a conta de multiplicação seja feita de 1 até 10 — incrementando de um em um. \n",
        "\n",
        "Aproveitando o aprendizado anterior, criei uma estrutura de while para que, enquanto o usuário digitar SIM, o programa roda novamente, perguntando qual a próxima tabuada que ele deseja exibir.\n"
      ],
      "metadata": {
        "id": "UvljljL5UOhz"
      }
    }
  ]
}