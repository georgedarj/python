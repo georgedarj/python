{
  "nbformat": 4,
  "nbformat_minor": 0,
  "metadata": {
    "colab": {
      "name": "LacosDeRepeticao.ipynb",
      "provenance": [],
      "collapsed_sections": [],
      "authorship_tag": "ABX9TyN/DmJJwh+IT5XMth58I3M1",
      "include_colab_link": true
    },
    "kernelspec": {
      "name": "python3",
      "display_name": "Python 3"
    },
    "language_info": {
      "name": "python"
    }
  },
  "cells": [
    {
      "cell_type": "markdown",
      "metadata": {
        "id": "view-in-github",
        "colab_type": "text"
      },
      "source": [
        "<a href=\"https://colab.research.google.com/github/georgedarj/python/blob/main/LacosDeRepeticao.ipynb\" target=\"_parent\"><img src=\"https://colab.research.google.com/assets/colab-badge.svg\" alt=\"Open In Colab\"/></a>"
      ]
    },
    {
      "cell_type": "markdown",
      "source": [
        ""
      ],
      "metadata": {
        "id": "CUCyg_EYOjlp"
      }
    },
    {
      "cell_type": "markdown",
      "source": [
        "#LAÇOS DE REPETIÇÃO\n",
        "***\n",
        "Os laços de repetição servem para que uma *determinada ação seja repetida uma certa quantidade de vezes*. É um recurso que permite a redução drástica da quantidade de código.\n",
        "\n",
        "<font color=#FF00FF>While</font>: estrutura que se parece com o if, porém, executa o código enquanto uma condição for verdadeira. O ciclo do código é mais ou menos assim:\n",
        "\n",
        "\n",
        "\t-teste da condição – se verdadeira > executa o bloco de código > volta para a condição – se falsa > para o bloco\n",
        "\n",
        "\n",
        "<font color=\"red\">Por isso, cuidado!</font> Se criar um bloco em que a condição permaneça eternamente verdadeira, criará o chamado **“loop infinito”**, ou seja, o programa executará o bloco de código até que ele precise ser encerrado a força e abruptamente.\n",
        "\n",
        "A sintaxe do WHILE é:\n",
        "\n",
        "    while <condicao>:\n",
        "        repita o que está aqui\n",
        "        alterar valor da condição \n"
      ],
      "metadata": {
        "id": "bosVGsKYOlmZ"
      }
    },
    {
      "cell_type": "code",
      "source": [
        "numero= int(input(\"Digite um número: \"))\n",
        "while numero>0:\n",
        "    print(\" \" + str(numero))\n",
        "    numero=numero-1\n",
        "print(\"Laço encerrado)\")"
      ],
      "metadata": {
        "id": "5-Tu-AjZPf8G"
      },
      "execution_count": null,
      "outputs": []
    },
    {
      "cell_type": "markdown",
      "source": [
        "Veja, na linha 4:\n",
        "\n",
        "\tnumero=numero-1 \n",
        "\n",
        "Este é o pedaço de código que impede que nosso while seja infinito, pois ele decrementa o valor de numero até que a variável alcance a condição que encerra o loop.\n"
      ],
      "metadata": {
        "id": "k8c5ZLruOQIm"
      }
    },
    {
      "cell_type": "code",
      "source": [
        "resposta=\"SIM\"\n",
        "while resposta==\"SIM\":\n",
        "    nivel= input(\"Digite o nível de acesso: \").upper()\n",
        "    if nivel==\"ADM\" or nivel==\"USR\":\n",
        "        genero= input(\"Digite o seu gênero: \").upper()\n",
        "        if nivel==\"ADM\":\n",
        "            if genero==\"FEMININO\":\n",
        "                print(\"Olá, Adminitradora!\")\n",
        "            else:\n",
        "                print(\"Olá, administrador!\")\n",
        "        else:\n",
        "            if genero==\"FEMININO\":\n",
        "                print(\"Olá, usuária!\")\n",
        "            else:\n",
        "                print(\"Olá, usuário!\")\n",
        "    elif nivel==\"GUEST\":\n",
        "        print(\"Olá, visitante!\")\n",
        "    else:\n",
        "        print(\"Olá, desconhecido!\")\n",
        "    resposta= input(\"Digite SIM para continuar: \").upper()"
      ],
      "metadata": {
        "id": "ausWt5OMTMUn"
      },
      "execution_count": null,
      "outputs": []
    }
  ]
}