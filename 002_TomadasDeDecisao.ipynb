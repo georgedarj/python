{
  "nbformat": 4,
  "nbformat_minor": 0,
  "metadata": {
    "colab": {
      "name": "002_TomadasDeDecisao.ipynb",
      "provenance": [],
      "collapsed_sections": [],
      "authorship_tag": "ABX9TyOrLZvAFq1yAjdxhCboK9m0",
      "include_colab_link": true
    },
    "kernelspec": {
      "name": "python3",
      "display_name": "Python 3"
    },
    "language_info": {
      "name": "python"
    }
  },
  "cells": [
    {
      "cell_type": "markdown",
      "metadata": {
        "id": "view-in-github",
        "colab_type": "text"
      },
      "source": [
        "<a href=\"https://colab.research.google.com/github/georgedarj/python/blob/main/002_TomadasDeDecisao.ipynb\" target=\"_parent\"><img src=\"https://colab.research.google.com/assets/colab-badge.svg\" alt=\"Open In Colab\"/></a>"
      ]
    },
    {
      "cell_type": "markdown",
      "source": [
        "# Estruturas de Decisão\n",
        "***\n",
        "Tomadas de decisão são “momentos” do código em que o próximo processo a ser seguido dependerá de um valor. Para que sejam possíveis, utilizaremos o comando condicional <font color=#FF00FF> if </font>(equivalente ao se, em português).\n",
        "\n",
        "A sintaxe é a seguinte:\n",
        "\n",
        "\tif<condição>:\n",
        "\t\t<o que deve acontecer caso a condição seja verdadeira>\n",
        "\n",
        "Obs: a linha do if deve ser encerrada com dois pontos (:); as linhas a serem executadas, no caso da condição ser verdadeira, devem estar com um recuo da margem esquerda, inserido através da tecla TAB. Tudo o que estiver recuado abaixo do if, será executado.\n",
        "\n",
        "O comando if pode ser usado em três estruturas:\n",
        "\n",
        "## Decisões Simples\n",
        "***\n"
      ],
      "metadata": {
        "id": "p30NH8swyXJ2"
      }
    },
    {
      "cell_type": "code",
      "execution_count": null,
      "metadata": {
        "id": "CpH98CRgFDR3"
      },
      "outputs": [],
      "source": [
        "nome= input(\"Digite o nome: \")\n",
        "idade= int(input(\"Digite a idade: \"))\n",
        "prioridade= \"NÃO\"\n",
        "\n",
        "if idade>= 65:\n",
        "    prioridade= \"SIM\"\n",
        "\n",
        "print(\"O paciente \" + nome + \" possui prioridade? \" + prioridade)"
      ]
    },
    {
      "cell_type": "markdown",
      "source": [
        "## Decisões Compostas\n",
        "***\n",
        "São formadas por direcionamento no caso de uma condição ser verdadeira e caso a condição seja falsa, isto é, avalia duas hipóteses. Para isso, entraremos, junto ao comando <font color= #FF00FF>if</font>, com o comando <font color=#FF00FF>else</font> que executará as funções na linhas tabuladas caso a condição seja contrária a do if."
      ],
      "metadata": {
        "id": "8b_09dcBy-k5"
      }
    },
    {
      "cell_type": "code",
      "source": [
        "nome= input(\"Digite o nome: \")\n",
        "idade= int(input(\"Digite a idade: \"))\n",
        "\n",
        "if idade>= 65:\n",
        "    print(\"O paciente \" + nome + \" POSSUI atendimento prioritário!\")\n",
        "else:\n",
        "    print(\"O paciente \" + nome + \" NÃO POSSUI atendimento prioritário!\")"
      ],
      "metadata": {
        "id": "qP88WfNxHJzb"
      },
      "execution_count": null,
      "outputs": []
    },
    {
      "cell_type": "markdown",
      "source": [
        "No primeiro exemplo, de decisão simples, usamos três variáveis. Já na decisão composta, duas. Assim, esses elementos de decisão auxiliam a economizar em recursos de memória.\n",
        "\n",
        "Sempre evite efetuar duas tomadas de decisão simples; opte sempre pelas compostas.\n",
        "\n",
        "Um exemplo do que não fazer:\n"
      ],
      "metadata": {
        "id": "U6rhZBM11Qqi"
      }
    },
    {
      "cell_type": "code",
      "source": [
        "nome= input(\"Digite o nome: \")\n",
        "idade= int(input(\"Digite a idade: \"))\n",
        "\n",
        "if idade>= 65:\n",
        "    print(\"O paciente \" + nome + \" POSSUI atendimento prioritário!\")\n",
        "if idade< 65:\n",
        "    print(\"O paciente \" + nome + \" NÃO POSSUI atendimento prioritário!\")"
      ],
      "metadata": {
        "id": "zbEdL2JMIc0M"
      },
      "execution_count": null,
      "outputs": []
    },
    {
      "cell_type": "markdown",
      "source": [
        "O código assim processa os dois “ifs” sempre que o programa for executado, consumindo processamento desnecessário. Por isso, não é uma boa prática de programação."
      ],
      "metadata": {
        "id": "uzi_IA3d1b7n"
      }
    },
    {
      "cell_type": "code",
      "source": [
        "nome= input(\"Digite o nome: \")\n",
        "idade= int(input(\"Digite a idade: \"))\n",
        "doenca_contagiosa= input(\"Suspeita de COVID-19? \").upper()\n",
        "\n",
        "if idade >=65:\n",
        "    print(\"O paciente \" + nome + \" POSSUI atendimento prioritário\")\n",
        "elif doenca_contagiosa== \"SIM\":\n",
        "    print(\"O paciente \" + nome + \" deve ser direcionado para sala de espera reservada.\")\n",
        "else:\n",
        "    print(\"O paciente \" + nome + \" NÃO POSSUI atendimento prioritári e pode aguardar em sala comum!\") "
      ],
      "metadata": {
        "id": "AunKZcCn2L0Y"
      },
      "execution_count": null,
      "outputs": []
    },
    {
      "cell_type": "markdown",
      "source": [
        "A função <font color=#FF00FF> upper( ) </font> tem a finalidade de converter o conteúdo de uma string para letras maiúsculas.\n",
        "\n",
        "Também implementamos no código um comando chamado <font color=#FF00FF> elif </font>, uma sigla para “else+if”, para uma segunda condição que deve ser avaliada. \n",
        "\n",
        "Usamos ainda o operador <font color=#FF00FF> == </font>, que serve para indicar comparação de valores. \n",
        "\n",
        "Porém, cuidado! Um igual (=) serve para atribuir valores; dois (==), para comparar.\n",
        "\n",
        "Mas o código ainda não atende todas as condições possíveis. E se o paciente tiver mais de 65 anos e também possuir suspeita de doença contagiosa? \n",
        "\n",
        "Para corrigir isso, usaremos os operadores <font color=#FF00FF>AND </font> ou <font color=#FF00FF> OR </font>, que permitem colocar duas ou mais condições dentro de um único if e/ou else.\n",
        "\n",
        "Com o AND, ambas as condição, à esquerda e a direita, devem ser verdadeiras para que o if seja considerado verdadeiro; se uma delas retornar falso, o if retornará falso.\n",
        "\n",
        "Já com o OR, se uma das condições retornar verdadeiro, o if retornará verdadeiro.\n"
      ],
      "metadata": {
        "id": "SqLygQVW8wSC"
      }
    },
    {
      "cell_type": "code",
      "source": [
        "nome= input(\"Digite o nome: \")\n",
        "idade= int(input(\"Digite a idade: \"))\n",
        "doenca_contagiosa= input(\"Suspeita de doença contagiosa? \").upper()\n",
        "\n",
        "if idade>= 65 and doenca_contagiosa== \"SIM\":\n",
        "    print(\"O paciente será direcionado para sala AMARELA - com prioridade\")\n",
        "elif idade <65 and doenca_contagiosa== \"SIM\":\n",
        "    print(\"O paciente será direcionado para sala AMARELA - sem prioridade\")\n",
        "elif idade>= 65 and doenca_contagiosa== \"NAO\":\n",
        "    print(\"O paciente sera direcionado para sala BRANCA - com prioridade\")\n",
        "elif idade <65 and doenca_contagiosa== \"NAO\":\n",
        "    print(\"O paciente será direcionado para sala BRANCA - sem prioridade\")\n",
        "else:\n",
        "    print(\"Responda a suspeita de doença contagiosa com SIM ou NAO\")"
      ],
      "metadata": {
        "id": "a3Tmwfe0-ncA"
      },
      "execution_count": null,
      "outputs": []
    },
    {
      "cell_type": "markdown",
      "source": [
        "# Decisões Encadeadas\n",
        "***\n",
        "Servem para avaliarmos uma situação e, dependendo da situação, serão tomadas outras decisões. Por isso, servem como uma alternativa para estruturas robustas, como a apresentada anteriormente, sem necessitar do uso de AND e OR."
      ],
      "metadata": {
        "id": "QinIHa0p0xF4"
      }
    },
    {
      "cell_type": "code",
      "source": [
        "nome= input(\"Digite o nome: \")\n",
        "idade= int(input(\"Digite a idade: \"))\n",
        "doenca_contagiosa= input(\"Suspeita de doença contagiosa? \").upper()\n",
        "\n",
        "if idade >=65:\n",
        "    print(\"Paciente COM prioridade\")\n",
        "    if doenca_contagiosa==\"SIM\":\n",
        "        print(\"Encaminhe o paciente para sala AMARELA\")\n",
        "    elif doenca_contagiosa== \"NAO\":\n",
        "        print(\"Encaminhe o paciente para a sala BRANCA\")\n",
        "    else:\n",
        "        print(\"Responda a suspeita de doença contagiosa com SIM ou NAO\")\n",
        "else:\n",
        "    print(\"Paciente SEM prioridade\")\n",
        "    if doenca_contagiosa==\"SIM\":\n",
        "        print(\"Encaminhe o paciente para a sala AMARELA\")\n",
        "    elif doenca_contagiosa==\"NAO\":\n",
        "        print('Encaminhe o paciente para sala BRANCA')\n",
        "    else:\n",
        "        print(\"Responda a suspeita de doença contagiosa com ISM ou NAO\")"
      ],
      "metadata": {
        "id": "gALdcQXK028Q"
      },
      "execution_count": null,
      "outputs": []
    }
  ]
}